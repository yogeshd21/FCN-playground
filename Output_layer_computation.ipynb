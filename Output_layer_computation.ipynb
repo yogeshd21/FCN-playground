{
 "cells": [
  {
   "cell_type": "code",
   "execution_count": null,
   "metadata": {
    "id": "I5gjMySLXfzZ"
   },
   "outputs": [],
   "source": [
    "import pandas as pd\n",
    "from tensorflow.keras.datasets import cifar10\n",
    "from tensorflow.keras.utils import to_categorical\n",
    "from tensorflow.keras.models import Sequential\n",
    "from tensorflow.keras.layers import Dense\n",
    "from tensorflow.keras.layers import Dropout\n",
    "from tensorflow.keras.layers import Flatten\n",
    "from tensorflow.keras.optimizers import SGD\n",
    "from tensorflow.keras.optimizers import Adam\n",
    "from tensorflow.keras.optimizers import RMSprop\n",
    "\n",
    "def load_dataset():\n",
    "  (trainX, trainY), (testX, testY) = cifar10.load_data()\n",
    "\t# one hot encode target values\n",
    "  trainY = to_categorical(trainY)\n",
    "  testY = to_categorical(testY)\n",
    "  return trainX, trainY, testX, testY\n",
    "\n",
    "def prep_pixels(train, test):\n",
    "\ttrain_norm = train.astype('float32')\n",
    "\ttest_norm = test.astype('float32')\n",
    "\t# normalize\n",
    "\ttrain_norm = train_norm / 255.0\n",
    "\ttest_norm = test_norm / 255.0\n",
    "\treturn train_norm, test_norm\n",
    "\n",
    "def define_model2(hnodes, dr, optm):\n",
    "\tmodel = Sequential()\n",
    "\tmodel.add(Flatten())\n",
    "\tmodel.add(Dense(64, activation='relu'))\n",
    "\tmodel.add(Dropout(dr))\n",
    "\tmodel.add(Dense(hnodes, activation='relu'))\n",
    "\tmodel.add(Dropout(dr))\n",
    "\tmodel.add(Dense(10, activation='softmax'))\n",
    "\tif optm == 'SGD':\n",
    "\t\topt = SGD(lr=0.001, momentum=0.9)\n",
    "\telif optm == 'ADAM':\n",
    "\t\topt = Adam(learning_rate=0.001)\n",
    "\telif optm == 'RMSProp':\n",
    "\t\topt = RMSprop(lr=0.001, momentum=0.9)\n",
    "\tmodel.compile(optimizer=opt, loss='categorical_crossentropy', metrics=['accuracy'])\n",
    "\treturn model\n",
    "\n",
    "def run_test_harness():\n",
    "  trainX, trainY, testX, testY = load_dataset()\n",
    "  trainX, testX = prep_pixels(trainX, testX)\n",
    "  model = define_model2(512, 0, 'SGD')\n",
    "  model.fit(trainX, trainY, epochs=100, batch_size=64, validation_data=(testX, testY), verbose=0)\n",
    "  _, acc = model.evaluate(testX, testY, verbose=0)\n",
    "  print('> %.3f' % (acc * 100.0))\n",
    "  return model, trainX, trainY, testX, testY\n",
    "\n",
    "model, trainX, trainY, testX, testY = run_test_harness()"
   ]
  },
  {
   "cell_type": "code",
   "execution_count": null,
   "metadata": {
    "id": "1ERYKmT7kcC1"
   },
   "outputs": [],
   "source": [
    "from keras import backend as K\n",
    "get_layer_output = K.function([model.layers[0].input],[model.layers[1].output, model.layers[2].output, model.layers[3].output, model.layers[4].output, model.layers[5].output])\n",
    "\n",
    "trainX, trainY, testX, testY = load_dataset()\n",
    "trainX, testX = prep_pixels(trainX, testX)\n",
    "\n",
    "layer1_output, layer2_output, layer3_output, layer4_output, layer5_output = get_layer_output([trainX])"
   ]
  },
  {
   "cell_type": "code",
   "execution_count": null,
   "metadata": {
    "id": "55k6OwA0n5yi"
   },
   "outputs": [],
   "source": [
    "import numpy as np\n",
    "train_ids = [np.arange(len(trainY))[trainY[:,i] == 1] for i in range(10)]"
   ]
  },
  {
   "cell_type": "code",
   "execution_count": null,
   "metadata": {
    "id": "9fT3A0ALqdp3"
   },
   "outputs": [],
   "source": [
    "import matplotlib.pyplot as plt\n",
    "\n",
    "f, ax_arr = plt.subplots(2, 5, figsize=(15,10))\n",
    "\n",
    "f.subplots_adjust(wspace=0.05, bottom=0.5, top=0.95)\n",
    "\n",
    "for i, ax in enumerate(np.ravel(ax_arr)):\n",
    "    ax.axes.get_xaxis().set_visible(False)\n",
    "    ax.axes.get_yaxis().set_visible(False)\n",
    "    if i <= 10:\n",
    "        ax.set_title('- {} -'.format(i), fontsize=16)\n",
    "        layer1_plot = ax.imshow(np.sum(layer1_output[train_ids[i]], axis=0).reshape((8,8)))"
   ]
  },
  {
   "cell_type": "code",
   "execution_count": null,
   "metadata": {
    "id": "jMA2jSrhrIkz"
   },
   "outputs": [],
   "source": [
    "f, ax_arr = plt.subplots(2, 5, figsize=(15,10))\n",
    "\n",
    "f.subplots_adjust(wspace=0.05, bottom=0.5, top=0.95)\n",
    "\n",
    "for i, ax in enumerate(np.ravel(ax_arr)):\n",
    "    ax.axes.get_xaxis().set_visible(False)\n",
    "    ax.axes.get_yaxis().set_visible(False)\n",
    "    if i <= 10:\n",
    "        ax.set_title('- {} -'.format(i), fontsize=16)\n",
    "        layer2_plot = ax.imshow(np.sum(layer2_output[train_ids[i]], axis=0).reshape((8,8)))"
   ]
  },
  {
   "cell_type": "code",
   "execution_count": null,
   "metadata": {
    "id": "QTkfoPpv8UDn"
   },
   "outputs": [],
   "source": [
    "f, ax_arr = plt.subplots(2, 5, figsize=(15,10))\n",
    "\n",
    "f.subplots_adjust(wspace=0.05, bottom=0.5, top=0.95)\n",
    "\n",
    "for i, ax in enumerate(np.ravel(ax_arr)):\n",
    "    ax.axes.get_xaxis().set_visible(False)\n",
    "    ax.axes.get_yaxis().set_visible(False)\n",
    "    if i <= 10:\n",
    "        ax.set_title('- {} -'.format(i), fontsize=16)\n",
    "        layer2_plot = ax.imshow(np.sum(layer3_output[train_ids[i]], axis=0).reshape(32,16))"
   ]
  },
  {
   "cell_type": "code",
   "execution_count": null,
   "metadata": {
    "id": "-TqPb1_i8tt0"
   },
   "outputs": [],
   "source": [
    "f, ax_arr = plt.subplots(2, 5, figsize=(15,10))\n",
    "\n",
    "f.subplots_adjust(wspace=0.05, bottom=0.5, top=0.95)\n",
    "\n",
    "for i, ax in enumerate(np.ravel(ax_arr)):\n",
    "    ax.axes.get_xaxis().set_visible(False)\n",
    "    ax.axes.get_yaxis().set_visible(False)\n",
    "    if i <= 10:\n",
    "        ax.set_title('- {} -'.format(i), fontsize=16)\n",
    "        layer2_plot = ax.imshow(np.sum(layer4_output[train_ids[i]], axis=0).reshape((32,16)))"
   ]
  },
  {
   "cell_type": "code",
   "execution_count": null,
   "metadata": {
    "id": "aPy7Sccw9dVW"
   },
   "outputs": [],
   "source": [
    "f, ax_arr = plt.subplots(2, 5, figsize=(15,10))\n",
    "\n",
    "f.subplots_adjust(wspace=0.05, bottom=0.5, top=0.95)\n",
    "\n",
    "for i, ax in enumerate(np.ravel(ax_arr)):\n",
    "    ax.axes.get_xaxis().set_visible(False)\n",
    "    ax.axes.get_yaxis().set_visible(False)\n",
    "    if i <= 10:\n",
    "        ax.set_title('- {} -'.format(i), fontsize=16)\n",
    "        layer2_plot = ax.imshow(np.sum(layer5_output[train_ids[i]], axis=0).reshape((2,5)))"
   ]
  },
  {
   "cell_type": "markdown",
   "metadata": {
    "id": "ltbSGSkj3NvE"
   },
   "source": [
    "## Direct Input-Output"
   ]
  },
  {
   "cell_type": "code",
   "execution_count": null,
   "metadata": {
    "id": "9Z4k9n9T3Tac"
   },
   "outputs": [],
   "source": [
    "import pandas as pd\n",
    "from tensorflow.keras.datasets import cifar10\n",
    "from tensorflow.keras.utils import to_categorical\n",
    "from tensorflow.keras.models import Sequential\n",
    "from tensorflow.keras.layers import Dense\n",
    "from tensorflow.keras.layers import Dropout\n",
    "from tensorflow.keras.layers import Flatten\n",
    "from tensorflow.keras.optimizers import SGD\n",
    "from tensorflow.keras.optimizers import Adam\n",
    "from tensorflow.keras.optimizers import RMSprop\n",
    "\n",
    "def load_dataset():\n",
    "  (trainX, trainY), (testX, testY) = cifar10.load_data()\n",
    "  trainY = to_categorical(trainY)\n",
    "  testY = to_categorical(testY)\n",
    "  return trainX, trainY, testX, testY\n",
    "\n",
    "def prep_pixels(train, test):\n",
    "\ttrain_norm = train.astype('float32')\n",
    "\ttest_norm = test.astype('float32')\n",
    "\t# normalize\n",
    "\ttrain_norm = train_norm / 255.0\n",
    "\ttest_norm = test_norm / 255.0\n",
    "\treturn train_norm, test_norm\n",
    "\n",
    "def define_model():\n",
    "\tmodel = Sequential()\n",
    "\tmodel.add(Flatten())\n",
    "\tmodel.add(Dense(1024, activation='relu'))\n",
    "\tmodel.add(Dense(10, activation='softmax'))\n",
    "\topt = SGD(lr=0.001, momentum=0.9)\n",
    "\tmodel.compile(optimizer=opt, loss='categorical_crossentropy', metrics=['accuracy'])\n",
    "\treturn model\n",
    "\n",
    "def run_test_harness():\n",
    "  trainX, trainY, testX, testY = load_dataset()\n",
    "  trainX, testX = prep_pixels(trainX, testX)\n",
    "\n",
    "  model = define_model()\n",
    "  model.fit(trainX, trainY, epochs=100, batch_size=64, validation_data=(testX, testY), verbose=0)\n",
    "\t\n",
    "  _, acc = model.evaluate(testX, testY, verbose=0)\n",
    "  print('> %.3f' % (acc * 100.0))\n",
    "  return model, trainX, trainY, testX, testY\n",
    "\n",
    "model, trainX, trainY, testX, testY = run_test_harness()"
   ]
  },
  {
   "cell_type": "code",
   "execution_count": null,
   "metadata": {
    "id": "assddbrz5KdQ"
   },
   "outputs": [],
   "source": [
    "from keras import backend as K\n",
    "get_layer_output = K.function([model.layers[0].input],[model.layers[1].output, model.layers[2].output])\n",
    "trainX, trainY, testX, testY = load_dataset()\n",
    "trainX, testX = prep_pixels(trainX, testX)\n",
    "layer1_output, layer2_output = get_layer_output([trainX])"
   ]
  },
  {
   "cell_type": "code",
   "execution_count": null,
   "metadata": {
    "id": "uV2l6lvm5cWC"
   },
   "outputs": [],
   "source": [
    "import numpy as np\n",
    "train_ids = [np.arange(len(trainY))[trainY[:,i] == 1] for i in range(10)]"
   ]
  },
  {
   "cell_type": "code",
   "execution_count": null,
   "metadata": {
    "id": "OVv5hann5ham"
   },
   "outputs": [],
   "source": [
    "import matplotlib.pyplot as plt\n",
    "\n",
    "f, ax_arr = plt.subplots(2, 5, figsize=(15,10))\n",
    "\n",
    "f.subplots_adjust(wspace=0.05, bottom=0.5, top=0.95)\n",
    "\n",
    "for i, ax in enumerate(np.ravel(ax_arr)):\n",
    "    ax.axes.get_xaxis().set_visible(False)\n",
    "    ax.axes.get_yaxis().set_visible(False)\n",
    "    if i <= 10:\n",
    "        ax.set_title('- {} -'.format(i), fontsize=16)\n",
    "        layer1_plot = ax.imshow(np.sum(layer1_output[train_ids[i]], axis=0).reshape((32,32)))"
   ]
  },
  {
   "cell_type": "code",
   "execution_count": null,
   "metadata": {
    "id": "lXBxfqUg5i0C"
   },
   "outputs": [],
   "source": [
    "import matplotlib.pyplot as plt\n",
    "\n",
    "f, ax_arr = plt.subplots(2, 5, figsize=(15,10))\n",
    "\n",
    "f.subplots_adjust(wspace=0.05, bottom=0.5, top=0.95)\n",
    "\n",
    "for i, ax in enumerate(np.ravel(ax_arr)):\n",
    "    ax.axes.get_xaxis().set_visible(False)\n",
    "    ax.axes.get_yaxis().set_visible(False)\n",
    "    if i <= 10:\n",
    "        ax.set_title('- {} -'.format(i), fontsize=16)\n",
    "        layer1_plot = ax.imshow(np.sum(layer2_output[train_ids[i]], axis=0).reshape((2,5)))"
   ]
  },
  {
   "cell_type": "code",
   "execution_count": null,
   "metadata": {
    "id": "f3n69_gl514-"
   },
   "outputs": [],
   "source": [
    "import matplotlib.pyplot as plt\n",
    "from PIL import Image\n",
    "import numpy as np\n",
    "\n",
    "print(model.summary())\n",
    "layer = model.layers[1]\n",
    "weight = layer.get_weights()\n",
    "\n",
    "for i in range(10):\n",
    "   plt.figure(i)\n",
    "   K = weight[0][3*i:3*i+3].reshape(32,32,3)\n",
    "   k_min, k_max = K.min(), K.max()\n",
    "   W = (K - k_min)/(k_max - k_min)\n",
    "   plt.imshow(W)\n"
   ]
  }
 ],
 "metadata": {
  "colab": {
   "authorship_tag": "ABX9TyNZfJkt3bmZ0WrvnPcoqnYx",
   "collapsed_sections": [],
   "name": "DL MLP Question 3.ipynb",
   "provenance": []
  },
  "kernelspec": {
   "display_name": "Python 3 (ipykernel)",
   "language": "python",
   "name": "python3"
  },
  "language_info": {
   "codemirror_mode": {
    "name": "ipython",
    "version": 3
   },
   "file_extension": ".py",
   "mimetype": "text/x-python",
   "name": "python",
   "nbconvert_exporter": "python",
   "pygments_lexer": "ipython3",
   "version": "3.8.5"
  }
 },
 "nbformat": 4,
 "nbformat_minor": 1
}
